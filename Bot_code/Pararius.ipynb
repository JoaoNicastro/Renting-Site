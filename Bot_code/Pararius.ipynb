import time

from selenium import webdriver
from selenium.webdriver.chrome.service import Service as ChromeService
from webdriver_manager.chrome import ChromeDriverManager

from selenium.webdriver.common.by import By

from selenium.webdriver.support.wait import WebDriverWait
from selenium.webdriver.support import expected_conditions as EC
from selenium.webdriver.common.action_chains import ActionChains

driver = webdriver.Chrome(service=ChromeService(ChromeDriverManager().install()))

driver.get("https://www.pararius.com/contact/20976cf4/amsterdam/househunting-randstad/request-details")
time.sleep(1)

agree = driver.find_element(by = By.ID, value = "onetrust-accept-btn-handler")
time.sleep(1)
agree.click()

#Writing Message
message = driver.find_element(by=By.NAME, value = "listing_contact_agent_form[message]")
time.sleep(1)
message.click()
message.send_keys('I trust this message finds you well. My name is Gabriel Pimenta, and I am and I am extremely interested in the property. As a responsible and reliable tenant, I pride myself on maintaining a clean and orderly living space. Additionally, my stable income and excellent rental history reflect my commitment to fulfilling lease agreements promptly. I am eager to discuss the possibility of becoming a tenant at this property and would appreciate any information on the application process.')



#Writing First Name
time.sleep(1)
first_name_input = WebDriverWait(driver, 10).until(EC.presence_of_element_located((By.NAME, "listing_contact_agent_form[first_name]")))
ActionChains(driver).move_to_element(first_name_input).click().perform()
first_name_input.send_keys('Gabriel')

#Writing Last Name
time.sleep(1)
last_name_input = WebDriverWait(driver, 10).until(EC.presence_of_element_located((By.NAME, "listing_contact_agent_form[last_name]")))
ActionChains(driver).move_to_element(last_name_input).click().perform()
last_name_input.send_keys('Pimenta')

#Writing Email
time.sleep(1)
email_input = WebDriverWait(driver, 10).until(EC.presence_of_element_located((By.NAME, "listing_contact_agent_form[email]")))
ActionChains(driver).move_to_element(email_input).click().perform()
email_input.send_keys('gabripimenta@gmail.com')

#Writing Phone Number
time.sleep(1)
phone_input = WebDriverWait(driver, 10).until(EC.presence_of_element_located((By.NAME, "listing_contact_agent_form[phone]")))
ActionChains(driver).move_to_element(phone_input).click().perform()
phone_input.send_keys('+5511999099028')

#Submitting
time.sleep(1)
submit_input = WebDriverWait(driver, 10).until(EC.presence_of_element_located((By.CLASS_NAME, "form__button.form__button--submit")))
driver.execute_script("arguments[0].click();", submit_input)
